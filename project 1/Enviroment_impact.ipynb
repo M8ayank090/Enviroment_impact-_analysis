{
 "cells": [
  {
   "cell_type": "markdown",
   "id": "36842eea-9b05-4c2a-80a1-27dde0185c82",
   "metadata": {},
   "source": [
    "# Environmental Impact Analysis using Satellite Data"
   ]
  },
  {
   "cell_type": "markdown",
   "id": "a43d5a16-7a84-4c67-8338-4cd089781d3b",
   "metadata": {},
   "source": [
    "### Step 1: Define the Objective and Scope of the Analysis\n",
    "#### a. Identify the Specific Environmental Issue\n",
    "For example, let’s choose to analyze deforestation.\n",
    "\n",
    "#### b. Geographic Scope\n",
    "Define the specific geographic area of interest, e.g., Amazon Rainforest.\n",
    "\n",
    "#### c. Temporal Scope\n",
    "Decide on the time frame for your analysis, e.g., January 2019 to December 2023.\n",
    "\n",
    "#### d. Data Requirements\n",
    "We'll use the Harmonized Sentinel-2 MSI: MultiSpectral Instrument, Level-1C data, which provides high-resolution optical images.\n",
    "\n",
    "#### e. Expected Outcomes\n",
    "The analysis aims to:\n",
    "        Identify areas of deforestation over the specified period.\n",
    "        Quantify the rate of deforestation.\n",
    "        Provide visualizations and statistical data to support findings."
   ]
  },
  {
   "cell_type": "code",
   "execution_count": 1,
   "id": "8494e17b-cbb7-46bf-ac40-ed0f7e59b72d",
   "metadata": {},
   "outputs": [],
   "source": [
    "import ee\n",
    "\n",
    "# Authenticate the Earth Engine API\n",
    "ee.Authenticate()\n",
    "\n",
    "# Initialize the Earth Engine API\n",
    "ee.Initialize()\n"
   ]
  },
  {
   "cell_type": "code",
   "execution_count": 2,
   "id": "4307a894-9147-42af-8171-040ef8b09de0",
   "metadata": {},
   "outputs": [],
   "source": [
    "import geemap  # Interactive mapping with GEE\n",
    "import matplotlib.pyplot as plt  # Plotting library\n",
    "import pandas as pd  # Data manipulation and analysis\n",
    "import numpy as np  # Numerical operations\n",
    "import seaborn as sns  # Statistical data visualization\n",
    "from shapely.geometry import Polygon  # Geometric objects manipulation"
   ]
  },
  {
   "cell_type": "code",
   "execution_count": 3,
   "id": "f7cc6c19-de26-4407-927b-8fa905b7ddf4",
   "metadata": {},
   "outputs": [
    {
     "data": {
      "text/html": [
       "\n",
       "            <style>\n",
       "                .geemap-dark {\n",
       "                    --jp-widgets-color: white;\n",
       "                    --jp-widgets-label-color: white;\n",
       "                    --jp-ui-font-color1: white;\n",
       "                    --jp-layout-color2: #454545;\n",
       "                    background-color: #383838;\n",
       "                }\n",
       "\n",
       "                .geemap-dark .jupyter-button {\n",
       "                    --jp-layout-color3: #383838;\n",
       "                }\n",
       "\n",
       "                .geemap-colab {\n",
       "                    background-color: var(--colab-primary-surface-color, white);\n",
       "                }\n",
       "\n",
       "                .geemap-colab .jupyter-button {\n",
       "                    --jp-layout-color3: var(--colab-primary-surface-color, white);\n",
       "                }\n",
       "            </style>\n",
       "            "
      ],
      "text/plain": [
       "<IPython.core.display.HTML object>"
      ]
     },
     "metadata": {},
     "output_type": "display_data"
    }
   ],
   "source": [
    "# Define the area of interest\n",
    "aoi = ee.Geometry.Polygon([\n",
    "    [[-63.0, -10.0], [-63.0, -5.0], [-58.0, -5.0], [-58.0, -10.0], [-63.0, -10.0]]\n",
    "])\n",
    "\n",
    "# Define the time frame for the analysis\n",
    "start_date = '2019-01-01'\n",
    "end_date = '2023-12-31'\n",
    "\n",
    "# Load the Sentinel-2 dataset\n",
    "sentinel2 = ee.ImageCollection(\"COPERNICUS/S2_HARMONIZED\") \\\n",
    "    .filterBounds(aoi) \\\n",
    "    .filterDate(start_date, end_date) \\\n",
    "    .filter(ee.Filter.lt('CLOUDY_PIXEL_PERCENTAGE', 20))"
   ]
  },
  {
   "cell_type": "markdown",
   "id": "34f3d863-c183-4b71-850b-6172345a7698",
   "metadata": {},
   "source": [
    "### Step 2: Preprocess the Satellite Data \n",
    "In this step, we will preprocess the satellite data to prepare it for analysis. Preprocessing includes steps like masking clouds, applying necessary image transformations, and generating a composite image."
   ]
  },
  {
   "cell_type": "code",
   "execution_count": 4,
   "id": "97045610-8b59-4fa1-a08d-1db4e9045bad",
   "metadata": {},
   "outputs": [
    {
     "data": {
      "text/html": [
       "\n",
       "            <style>\n",
       "                .geemap-dark {\n",
       "                    --jp-widgets-color: white;\n",
       "                    --jp-widgets-label-color: white;\n",
       "                    --jp-ui-font-color1: white;\n",
       "                    --jp-layout-color2: #454545;\n",
       "                    background-color: #383838;\n",
       "                }\n",
       "\n",
       "                .geemap-dark .jupyter-button {\n",
       "                    --jp-layout-color3: #383838;\n",
       "                }\n",
       "\n",
       "                .geemap-colab {\n",
       "                    background-color: var(--colab-primary-surface-color, white);\n",
       "                }\n",
       "\n",
       "                .geemap-colab .jupyter-button {\n",
       "                    --jp-layout-color3: var(--colab-primary-surface-color, white);\n",
       "                }\n",
       "            </style>\n",
       "            "
      ],
      "text/plain": [
       "<IPython.core.display.HTML object>"
      ]
     },
     "metadata": {},
     "output_type": "display_data"
    }
   ],
   "source": [
    "# Cloud Masking Function\n",
    "def mask_clouds(image):\n",
    "    qa = image.select('QA60')\n",
    "    cloud_bit_mask = 1 << 10\n",
    "    cirrus_bit_mask = 1 << 11\n",
    "    mask = qa.bitwiseAnd(cloud_bit_mask).eq(0).And(\n",
    "        qa.bitwiseAnd(cirrus_bit_mask).eq(0))\n",
    "    return image.updateMask(mask)\n",
    "\n",
    "# Apply the cloud masking function\n",
    "sentinel2_cloud_free = sentinel2.map(mask_clouds)"
   ]
  },
  {
   "cell_type": "code",
   "execution_count": 5,
   "id": "337a7d90-7526-4be8-b207-a1b700f9a2fd",
   "metadata": {},
   "outputs": [
    {
     "data": {
      "text/html": [
       "\n",
       "            <style>\n",
       "                .geemap-dark {\n",
       "                    --jp-widgets-color: white;\n",
       "                    --jp-widgets-label-color: white;\n",
       "                    --jp-ui-font-color1: white;\n",
       "                    --jp-layout-color2: #454545;\n",
       "                    background-color: #383838;\n",
       "                }\n",
       "\n",
       "                .geemap-dark .jupyter-button {\n",
       "                    --jp-layout-color3: #383838;\n",
       "                }\n",
       "\n",
       "                .geemap-colab {\n",
       "                    background-color: var(--colab-primary-surface-color, white);\n",
       "                }\n",
       "\n",
       "                .geemap-colab .jupyter-button {\n",
       "                    --jp-layout-color3: var(--colab-primary-surface-color, white);\n",
       "                }\n",
       "            </style>\n",
       "            "
      ],
      "text/plain": [
       "<IPython.core.display.HTML object>"
      ]
     },
     "metadata": {},
     "output_type": "display_data"
    }
   ],
   "source": [
    "# Calculate NDVI (Normalized Difference Vegetation Index)\n",
    "def add_ndvi(image):\n",
    "    ndvi = image.normalizedDifference(['B8', 'B4']).rename('NDVI')\n",
    "    return image.addBands(ndvi)\n",
    "\n",
    "# Add NDVI band to each image\n",
    "sentinel2_ndvi = sentinel2_cloud_free.map(add_ndvi)"
   ]
  },
  {
   "cell_type": "code",
   "execution_count": 6,
   "id": "82ed7d65-8ff4-4383-b80e-8fea53cdba70",
   "metadata": {},
   "outputs": [
    {
     "data": {
      "text/html": [
       "\n",
       "            <style>\n",
       "                .geemap-dark {\n",
       "                    --jp-widgets-color: white;\n",
       "                    --jp-widgets-label-color: white;\n",
       "                    --jp-ui-font-color1: white;\n",
       "                    --jp-layout-color2: #454545;\n",
       "                    background-color: #383838;\n",
       "                }\n",
       "\n",
       "                .geemap-dark .jupyter-button {\n",
       "                    --jp-layout-color3: #383838;\n",
       "                }\n",
       "\n",
       "                .geemap-colab {\n",
       "                    background-color: var(--colab-primary-surface-color, white);\n",
       "                }\n",
       "\n",
       "                .geemap-colab .jupyter-button {\n",
       "                    --jp-layout-color3: var(--colab-primary-surface-color, white);\n",
       "                }\n",
       "            </style>\n",
       "            "
      ],
      "text/plain": [
       "<IPython.core.display.HTML object>"
      ]
     },
     "metadata": {},
     "output_type": "display_data"
    }
   ],
   "source": [
    "#Create Annual NDVI Composite Images\n",
    "def annual_composite(year):\n",
    "    start = ee.Date.fromYMD(year, 1, 1)\n",
    "    end = ee.Date.fromYMD(year, 12, 31)\n",
    "    composite = sentinel2_ndvi.filterDate(start, end).median()\n",
    "    return composite.set('year', year).addBands(ee.Image.constant(year).rename('year'))\n",
    "\n",
    "years = ee.List.sequence(2019, 2023)\n",
    "annual_ndvi_composites = ee.ImageCollection(years.map(annual_composite))\n"
   ]
  },
  {
   "cell_type": "code",
   "execution_count": 7,
   "id": "cda901ff-05ac-4ba1-8c8c-21120cd530ae",
   "metadata": {},
   "outputs": [
    {
     "data": {
      "text/html": [
       "\n",
       "            <style>\n",
       "                .geemap-dark {\n",
       "                    --jp-widgets-color: white;\n",
       "                    --jp-widgets-label-color: white;\n",
       "                    --jp-ui-font-color1: white;\n",
       "                    --jp-layout-color2: #454545;\n",
       "                    background-color: #383838;\n",
       "                }\n",
       "\n",
       "                .geemap-dark .jupyter-button {\n",
       "                    --jp-layout-color3: #383838;\n",
       "                }\n",
       "\n",
       "                .geemap-colab {\n",
       "                    background-color: var(--colab-primary-surface-color, white);\n",
       "                }\n",
       "\n",
       "                .geemap-colab .jupyter-button {\n",
       "                    --jp-layout-color3: var(--colab-primary-surface-color, white);\n",
       "                }\n",
       "            </style>\n",
       "            "
      ],
      "text/plain": [
       "<IPython.core.display.HTML object>"
      ]
     },
     "metadata": {},
     "output_type": "display_data"
    },
    {
     "data": {
      "application/vnd.jupyter.widget-view+json": {
       "model_id": "0e946876b9b4479cb9ccd68f2a2202d7",
       "version_major": 2,
       "version_minor": 0
      },
      "text/plain": [
       "Map(center=[-7.502247125720452, -60.49999999999998], controls=(WidgetControl(options=['position', 'transparent…"
      ]
     },
     "metadata": {},
     "output_type": "display_data"
    }
   ],
   "source": [
    "# Initialize a map\n",
    "Map = geemap.Map()\n",
    "\n",
    "# Define visualization parameters for NDVI\n",
    "ndvi_params = {\n",
    "    'min': 0,\n",
    "    'max': 1,\n",
    "    'palette': ['white', 'green']\n",
    "}\n",
    "\n",
    "# Add the 2019 NDVI composite to the map\n",
    "ndvi_2019 = annual_ndvi_composites.filter(ee.Filter.eq('year', 2019)).first()\n",
    "Map.centerObject(aoi, 8)\n",
    "Map.addLayer(ndvi_2019.select('NDVI'), ndvi_params, 'NDVI 2019')\n",
    "Map.addLayerControl()  # Add layer control to the map\n",
    "Map\n"
   ]
  },
  {
   "cell_type": "markdown",
   "id": "93cf59f4-b9e5-4bda-bbfa-ee24c14db50a",
   "metadata": {},
   "source": [
    "### Step 3: Analyze Changes Over Time\n",
    "In this step, we will analyze the changes in NDVI over the specified time period to identify areas of deforestation. This involves calculating the difference in NDVI between the start and end of the analysis period and identifying areas with significant decreases in NDVI."
   ]
  },
  {
   "cell_type": "code",
   "execution_count": 8,
   "id": "8157269d-5c89-4b87-afc4-9ebac4fda77e",
   "metadata": {},
   "outputs": [
    {
     "data": {
      "text/html": [
       "\n",
       "            <style>\n",
       "                .geemap-dark {\n",
       "                    --jp-widgets-color: white;\n",
       "                    --jp-widgets-label-color: white;\n",
       "                    --jp-ui-font-color1: white;\n",
       "                    --jp-layout-color2: #454545;\n",
       "                    background-color: #383838;\n",
       "                }\n",
       "\n",
       "                .geemap-dark .jupyter-button {\n",
       "                    --jp-layout-color3: #383838;\n",
       "                }\n",
       "\n",
       "                .geemap-colab {\n",
       "                    background-color: var(--colab-primary-surface-color, white);\n",
       "                }\n",
       "\n",
       "                .geemap-colab .jupyter-button {\n",
       "                    --jp-layout-color3: var(--colab-primary-surface-color, white);\n",
       "                }\n",
       "            </style>\n",
       "            "
      ],
      "text/plain": [
       "<IPython.core.display.HTML object>"
      ]
     },
     "metadata": {},
     "output_type": "display_data"
    },
    {
     "data": {
      "application/vnd.jupyter.widget-view+json": {
       "model_id": "0e946876b9b4479cb9ccd68f2a2202d7",
       "version_major": 2,
       "version_minor": 0
      },
      "text/plain": [
       "Map(center=[-7.502247125720452, -60.49999999999998], controls=(WidgetControl(options=['position', 'transparent…"
      ]
     },
     "metadata": {},
     "output_type": "display_data"
    }
   ],
   "source": [
    "# Get the NDVI composites for 2019 and 2023\n",
    "ndvi_2019 = annual_ndvi_composites.filter(ee.Filter.eq('year', 2019)).first().select('NDVI')\n",
    "ndvi_2023 = annual_ndvi_composites.filter(ee.Filter.eq('year', 2023)).first().select('NDVI')\n",
    "\n",
    "# Calculate the NDVI change\n",
    "ndvi_change = ndvi_2023.subtract(ndvi_2019).rename('NDVI_Change')\n",
    "\n",
    "# Define visualization parameters for NDVI change\n",
    "ndvi_change_params = {\n",
    "    'min': -0.5,\n",
    "    'max': 0.5,\n",
    "    'palette': ['red', 'white', 'green']\n",
    "}\n",
    "\n",
    "# Add the NDVI change layer to the map\n",
    "Map.addLayer(ndvi_change, ndvi_change_params, 'NDVI Change 2019-2023')\n",
    "Map"
   ]
  },
  {
   "cell_type": "code",
   "execution_count": 9,
   "id": "e1afc6ca-0d83-482a-88a5-8b581539a565",
   "metadata": {},
   "outputs": [
    {
     "data": {
      "text/html": [
       "\n",
       "            <style>\n",
       "                .geemap-dark {\n",
       "                    --jp-widgets-color: white;\n",
       "                    --jp-widgets-label-color: white;\n",
       "                    --jp-ui-font-color1: white;\n",
       "                    --jp-layout-color2: #454545;\n",
       "                    background-color: #383838;\n",
       "                }\n",
       "\n",
       "                .geemap-dark .jupyter-button {\n",
       "                    --jp-layout-color3: #383838;\n",
       "                }\n",
       "\n",
       "                .geemap-colab {\n",
       "                    background-color: var(--colab-primary-surface-color, white);\n",
       "                }\n",
       "\n",
       "                .geemap-colab .jupyter-button {\n",
       "                    --jp-layout-color3: var(--colab-primary-surface-color, white);\n",
       "                }\n",
       "            </style>\n",
       "            "
      ],
      "text/plain": [
       "<IPython.core.display.HTML object>"
      ]
     },
     "metadata": {},
     "output_type": "display_data"
    },
    {
     "data": {
      "application/vnd.jupyter.widget-view+json": {
       "model_id": "0e946876b9b4479cb9ccd68f2a2202d7",
       "version_major": 2,
       "version_minor": 0
      },
      "text/plain": [
       "Map(center=[-7.502247125720452, -60.49999999999998], controls=(WidgetControl(options=['position', 'transparent…"
      ]
     },
     "metadata": {},
     "output_type": "display_data"
    }
   ],
   "source": [
    "# Define a threshold for significant NDVI decrease\n",
    "threshold = -0.2\n",
    "\n",
    "# Create a binary image where significant deforestation areas are marked\n",
    "deforestation_areas = ndvi_change.lt(threshold).selfMask()\n",
    "\n",
    "# Define visualization parameters for deforestation areas\n",
    "deforestation_params = {\n",
    "    'palette': ['red']\n",
    "}\n",
    "\n",
    "# Add the deforestation areas layer to the map\n",
    "Map.addLayer(deforestation_areas, deforestation_params, 'Significant Deforestation')\n",
    "Map"
   ]
  },
  {
   "cell_type": "code",
   "execution_count": 10,
   "id": "e469c9ed-531b-4f89-8cbb-5781ccc25bcc",
   "metadata": {},
   "outputs": [
    {
     "data": {
      "text/html": [
       "\n",
       "            <style>\n",
       "                .geemap-dark {\n",
       "                    --jp-widgets-color: white;\n",
       "                    --jp-widgets-label-color: white;\n",
       "                    --jp-ui-font-color1: white;\n",
       "                    --jp-layout-color2: #454545;\n",
       "                    background-color: #383838;\n",
       "                }\n",
       "\n",
       "                .geemap-dark .jupyter-button {\n",
       "                    --jp-layout-color3: #383838;\n",
       "                }\n",
       "\n",
       "                .geemap-colab {\n",
       "                    background-color: var(--colab-primary-surface-color, white);\n",
       "                }\n",
       "\n",
       "                .geemap-colab .jupyter-button {\n",
       "                    --jp-layout-color3: var(--colab-primary-surface-color, white);\n",
       "                }\n",
       "            </style>\n",
       "            "
      ],
      "text/plain": [
       "<IPython.core.display.HTML object>"
      ]
     },
     "metadata": {},
     "output_type": "display_data"
    },
    {
     "data": {
      "application/vnd.jupyter.widget-view+json": {
       "model_id": "0e946876b9b4479cb9ccd68f2a2202d7",
       "version_major": 2,
       "version_minor": 0
      },
      "text/plain": [
       "Map(center=[-7.502247125720452, -60.49999999999998], controls=(WidgetControl(options=['position', 'transparent…"
      ]
     },
     "metadata": {},
     "output_type": "display_data"
    }
   ],
   "source": [
    "# Define a threshold for significant NDVI decrease\n",
    "threshold = -0.2\n",
    "\n",
    "# Create a binary image where significant deforestation areas are marked\n",
    "deforestation_areas = ndvi_change.lt(threshold).selfMask()\n",
    "\n",
    "# Define visualization parameters for deforestation areas\n",
    "deforestation_params = {\n",
    "    'palette': ['red']\n",
    "}\n",
    "\n",
    "# Add the deforestation areas layer to the map\n",
    "Map.addLayer(deforestation_areas, deforestation_params, 'Significant Deforestation')\n",
    "Map"
   ]
  },
  {
   "cell_type": "markdown",
   "id": "9daf369d-d5e7-495f-baae-02437baa33ce",
   "metadata": {},
   "source": [
    "### Step 4: Quantify Deforestation"
   ]
  },
  {
   "cell_type": "code",
   "execution_count": 11,
   "id": "39a48537-b61d-4c6a-a52b-45496b0cb90f",
   "metadata": {},
   "outputs": [
    {
     "data": {
      "text/html": [
       "\n",
       "            <style>\n",
       "                .geemap-dark {\n",
       "                    --jp-widgets-color: white;\n",
       "                    --jp-widgets-label-color: white;\n",
       "                    --jp-ui-font-color1: white;\n",
       "                    --jp-layout-color2: #454545;\n",
       "                    background-color: #383838;\n",
       "                }\n",
       "\n",
       "                .geemap-dark .jupyter-button {\n",
       "                    --jp-layout-color3: #383838;\n",
       "                }\n",
       "\n",
       "                .geemap-colab {\n",
       "                    background-color: var(--colab-primary-surface-color, white);\n",
       "                }\n",
       "\n",
       "                .geemap-colab .jupyter-button {\n",
       "                    --jp-layout-color3: var(--colab-primary-surface-color, white);\n",
       "                }\n",
       "            </style>\n",
       "            "
      ],
      "text/plain": [
       "<IPython.core.display.HTML object>"
      ]
     },
     "metadata": {},
     "output_type": "display_data"
    },
    {
     "name": "stdout",
     "output_type": "stream",
     "text": [
      "Number of deforestation vectors: 316\n",
      "First few deforestation areas with calculated area: {'type': 'FeatureCollection', 'columns': {'area': 'Number', 'count': 'Long<0, 4294967295>', 'label': 'Byte<0, 1>', 'system:index': 'String'}, 'features': [{'type': 'Feature', 'geometry': {'geodesic': False, 'type': 'Polygon', 'coordinates': [[[-58.03116735412109, -9.270613732113462], [-58.03116735412109, -9.288580037795853], [-58.0132010484387, -9.288580037795853], [-58.0132010484387, -9.306546343478242], [-57.99523474275631, -9.306546343478242], [-57.99523474275631, -9.288580037795853], [-58.0132010484387, -9.288580037795853], [-58.0132010484387, -9.270613732113462], [-58.03116735412109, -9.270613732113462]]]}, 'id': '-3230-517', 'properties': {'area': 787.7461923776476, 'count': 2, 'label': 1}}, {'type': 'Feature', 'geometry': {'geodesic': False, 'type': 'Polygon', 'coordinates': [[[-58.085066271168266, -9.98926595940908], [-58.06709996548587, -9.98926595940908], [-58.06709996548587, -9.971299653726689], [-58.085066271168266, -9.971299653726689], [-58.085066271168266, -9.98926595940908]]]}, 'id': '-3233-556', 'properties': {'area': 393.06672492152927, 'count': 1, 'label': 1}}, {'type': 'Feature', 'geometry': {'geodesic': False, 'type': 'Polygon', 'coordinates': [[[-58.10303257685065, -6.342105905883822], [-58.085066271168266, -6.342105905883822], [-58.085066271168266, -6.324139600201431], [-58.10303257685065, -6.324139600201431], [-58.10303257685065, -6.342105905883822]]]}, 'id': '-3234-353', 'properties': {'area': 396.67061418365773, 'count': 1, 'label': 1}}, {'type': 'Feature', 'geometry': {'geodesic': False, 'type': 'Polygon', 'coordinates': [[[-58.10303257685065, -9.701805068490833], [-58.085066271168266, -9.701805068490833], [-58.085066271168266, -9.683838762808442], [-58.10303257685065, -9.683838762808442], [-58.10303257685065, -9.701805068490833]]]}, 'id': '-3234-540', 'properties': {'area': 393.408805929909, 'count': 1, 'label': 1}}, {'type': 'Feature', 'geometry': {'geodesic': False, 'type': 'Polygon', 'coordinates': [[[-58.13896518821544, -9.935367042361909], [-58.120998882533044, -9.935367042361909], [-58.120998882533044, -9.917400736679518], [-58.13896518821544, -9.917400736679518], [-58.13896518821544, -9.935367042361909]]]}, 'id': '-3236-553', 'properties': {'area': 393.131619028122, 'count': 1, 'label': 1}}, {'type': 'Feature', 'geometry': {'geodesic': False, 'type': 'Polygon', 'coordinates': [[[-58.174897799580215, -9.701805068490833], [-58.15693149389782, -9.701805068490833], [-58.15693149389782, -9.683838762808442], [-58.174897799580215, -9.683838762808442], [-58.174897799580215, -9.701805068490833]]]}, 'id': '-3238-540', 'properties': {'area': 393.40880593034956, 'count': 1, 'label': 1}}, {'type': 'Feature', 'geometry': {'geodesic': False, 'type': 'Polygon', 'coordinates': [[[-58.19286410526261, -9.486209400302148], [-58.174897799580215, -9.486209400302148], [-58.174897799580215, -9.468243094619757], [-58.19286410526261, -9.468243094619757], [-58.19286410526261, -9.486209400302148]]]}, 'id': '-3239-528', 'properties': {'area': 393.65886847405244, 'count': 1, 'label': 1}}, {'type': 'Feature', 'geometry': {'geodesic': False, 'type': 'Polygon', 'coordinates': [[[-58.228796716627386, -9.522142011666928], [-58.19286410526261, -9.522142011666928], [-58.19286410526261, -9.504175705984538], [-58.228796716627386, -9.504175705984538], [-58.228796716627386, -9.522142011666928]]]}, 'id': '-3240-530', 'properties': {'area': 787.2351744873926, 'count': 2, 'label': 1}}, {'type': 'Feature', 'geometry': {'geodesic': False, 'type': 'Polygon', 'coordinates': [[[-58.21083041094499, -9.701805068490833], [-58.19286410526261, -9.701805068490833], [-58.19286410526261, -9.683838762808442], [-58.21083041094499, -9.683838762808442], [-58.21083041094499, -9.701805068490833]]]}, 'id': '-3240-540', 'properties': {'area': 393.40880593000145, 'count': 1, 'label': 1}}, {'type': 'Feature', 'geometry': {'geodesic': False, 'type': 'Polygon', 'coordinates': [[[-58.228796716627386, -9.378411566207804], [-58.228796716627386, -9.396377871890195], [-58.24676302230978, -9.396377871890195], [-58.24676302230978, -9.414344177572586], [-58.228796716627386, -9.414344177572586], [-58.228796716627386, -9.396377871890195], [-58.21083041094499, -9.396377871890195], [-58.21083041094499, -9.378411566207804], [-58.228796716627386, -9.378411566207804]]]}, 'id': '-3241-523', 'properties': {'area': 787.5024005419632, 'count': 2, 'label': 1}}]}\n",
      "Deforestation stats: {'sum': 199769.90501513254}\n",
      "Total Deforested Area from 2019 to 2023: 199769.91 hectares\n"
     ]
    }
   ],
   "source": [
    "# Convert deforestation areas to vectors within the specified AOI with larger scale and best effort\n",
    "deforestation_vectors = deforestation_areas.reduceToVectors(\n",
    "    geometry=aoi,  # Specify the AOI as the geometry parameter\n",
    "    geometryType='polygon',\n",
    "    reducer=ee.Reducer.countEvery(),\n",
    "    scale=2000,  # Use a larger scale to reduce computational load\n",
    "    maxPixels=1e9,  # Increase the maxPixels limit\n",
    "    bestEffort=True  # Use best effort to reduce computation load\n",
    ")\n",
    "\n",
    "# Function to calculate the area of each polygon with an error margin\n",
    "def calculate_area(feature):\n",
    "    area = feature.geometry().area(maxError=1).divide(1e4)  # Convert to hectares with a non-zero error margin\n",
    "    return feature.set({'area': area})\n",
    "\n",
    "# Calculate the area for each polygon\n",
    "deforestation_areas_with_area = deforestation_vectors.map(calculate_area)\n",
    "\n",
    "# Print the number of deforestation vectors\n",
    "print(f\"Number of deforestation vectors: {deforestation_areas_with_area.size().getInfo()}\")\n",
    "\n",
    "# Print the first few features to inspect\n",
    "deforestation_areas_list = deforestation_areas_with_area.limit(10).getInfo()\n",
    "print(f\"First few deforestation areas with calculated area: {deforestation_areas_list}\")\n",
    "\n",
    "# Get the total deforested area\n",
    "deforestation_stats = deforestation_areas_with_area.reduceColumns(\n",
    "    reducer=ee.Reducer.sum(),\n",
    "    selectors=['area']\n",
    ")\n",
    "\n",
    "# Print the deforestation stats\n",
    "deforestation_stats_info = deforestation_stats.getInfo()\n",
    "print(f\"Deforestation stats: {deforestation_stats_info}\")\n",
    "\n",
    "# Get the total deforested area\n",
    "if 'sum' in deforestation_stats_info:\n",
    "    total_deforested_area = deforestation_stats_info['sum']\n",
    "    print(f\"Total Deforested Area from 2019 to 2023: {total_deforested_area:.2f} hectares\")\n",
    "else:\n",
    "    print(\"No deforested area detected.\")\n"
   ]
  },
  {
   "cell_type": "code",
   "execution_count": 12,
   "id": "7c35e909-72c2-4679-8c1d-84a1ba5842eb",
   "metadata": {},
   "outputs": [
    {
     "data": {
      "text/html": [
       "\n",
       "            <style>\n",
       "                .geemap-dark {\n",
       "                    --jp-widgets-color: white;\n",
       "                    --jp-widgets-label-color: white;\n",
       "                    --jp-ui-font-color1: white;\n",
       "                    --jp-layout-color2: #454545;\n",
       "                    background-color: #383838;\n",
       "                }\n",
       "\n",
       "                .geemap-dark .jupyter-button {\n",
       "                    --jp-layout-color3: #383838;\n",
       "                }\n",
       "\n",
       "                .geemap-colab {\n",
       "                    background-color: var(--colab-primary-surface-color, white);\n",
       "                }\n",
       "\n",
       "                .geemap-colab .jupyter-button {\n",
       "                    --jp-layout-color3: var(--colab-primary-surface-color, white);\n",
       "                }\n",
       "            </style>\n",
       "            "
      ],
      "text/plain": [
       "<IPython.core.display.HTML object>"
      ]
     },
     "metadata": {},
     "output_type": "display_data"
    },
    {
     "data": {
      "application/vnd.jupyter.widget-view+json": {
       "model_id": "0e946876b9b4479cb9ccd68f2a2202d7",
       "version_major": 2,
       "version_minor": 0
      },
      "text/plain": [
       "Map(center=[-7.502247125720452, -60.49999999999998], controls=(WidgetControl(options=['position', 'transparent…"
      ]
     },
     "metadata": {},
     "output_type": "display_data"
    }
   ],
   "source": [
    "# Define visualization parameters for deforested areas with area information\n",
    "deforestation_vector_params = {\n",
    "    'color': 'red'\n",
    "}\n",
    "\n",
    "# Add the deforested areas with area information to the map\n",
    "Map.addLayer(deforestation_areas_with_area, deforestation_vector_params, 'Deforested Areas with Area Info')\n",
    "Map\n"
   ]
  },
  {
   "cell_type": "code",
   "execution_count": 13,
   "id": "2e5e28e5-0c4d-477c-b183-6c122260f8fc",
   "metadata": {},
   "outputs": [
    {
     "data": {
      "text/html": [
       "\n",
       "            <style>\n",
       "                .geemap-dark {\n",
       "                    --jp-widgets-color: white;\n",
       "                    --jp-widgets-label-color: white;\n",
       "                    --jp-ui-font-color1: white;\n",
       "                    --jp-layout-color2: #454545;\n",
       "                    background-color: #383838;\n",
       "                }\n",
       "\n",
       "                .geemap-dark .jupyter-button {\n",
       "                    --jp-layout-color3: #383838;\n",
       "                }\n",
       "\n",
       "                .geemap-colab {\n",
       "                    background-color: var(--colab-primary-surface-color, white);\n",
       "                }\n",
       "\n",
       "                .geemap-colab .jupyter-button {\n",
       "                    --jp-layout-color3: var(--colab-primary-surface-color, white);\n",
       "                }\n",
       "            </style>\n",
       "            "
      ],
      "text/plain": [
       "<IPython.core.display.HTML object>"
      ]
     },
     "metadata": {},
     "output_type": "display_data"
    },
    {
     "ename": "EEException",
     "evalue": "Request had insufficient authentication scopes.",
     "output_type": "error",
     "traceback": [
      "\u001b[1;31m---------------------------------------------------------------------------\u001b[0m",
      "\u001b[1;31mHttpError\u001b[0m                                 Traceback (most recent call last)",
      "File \u001b[1;32m~\\anaconda3\\Lib\\site-packages\\ee\\data.py:402\u001b[0m, in \u001b[0;36m_execute_cloud_call\u001b[1;34m(call, num_retries)\u001b[0m\n\u001b[0;32m    401\u001b[0m \u001b[38;5;28;01mtry\u001b[39;00m:\n\u001b[1;32m--> 402\u001b[0m   \u001b[38;5;28;01mreturn\u001b[39;00m call\u001b[38;5;241m.\u001b[39mexecute(num_retries\u001b[38;5;241m=\u001b[39mnum_retries)\n\u001b[0;32m    403\u001b[0m \u001b[38;5;28;01mexcept\u001b[39;00m googleapiclient\u001b[38;5;241m.\u001b[39merrors\u001b[38;5;241m.\u001b[39mHttpError \u001b[38;5;28;01mas\u001b[39;00m e:\n",
      "File \u001b[1;32m~\\anaconda3\\Lib\\site-packages\\googleapiclient\\_helpers.py:130\u001b[0m, in \u001b[0;36mpositional.<locals>.positional_decorator.<locals>.positional_wrapper\u001b[1;34m(*args, **kwargs)\u001b[0m\n\u001b[0;32m    129\u001b[0m         logger\u001b[38;5;241m.\u001b[39mwarning(message)\n\u001b[1;32m--> 130\u001b[0m \u001b[38;5;28;01mreturn\u001b[39;00m wrapped(\u001b[38;5;241m*\u001b[39margs, \u001b[38;5;241m*\u001b[39m\u001b[38;5;241m*\u001b[39mkwargs)\n",
      "File \u001b[1;32m~\\anaconda3\\Lib\\site-packages\\googleapiclient\\http.py:938\u001b[0m, in \u001b[0;36mHttpRequest.execute\u001b[1;34m(self, http, num_retries)\u001b[0m\n\u001b[0;32m    937\u001b[0m \u001b[38;5;28;01mif\u001b[39;00m resp\u001b[38;5;241m.\u001b[39mstatus \u001b[38;5;241m>\u001b[39m\u001b[38;5;241m=\u001b[39m \u001b[38;5;241m300\u001b[39m:\n\u001b[1;32m--> 938\u001b[0m     \u001b[38;5;28;01mraise\u001b[39;00m HttpError(resp, content, uri\u001b[38;5;241m=\u001b[39m\u001b[38;5;28mself\u001b[39m\u001b[38;5;241m.\u001b[39muri)\n\u001b[0;32m    939\u001b[0m \u001b[38;5;28;01mreturn\u001b[39;00m \u001b[38;5;28mself\u001b[39m\u001b[38;5;241m.\u001b[39mpostproc(resp, content)\n",
      "\u001b[1;31mHttpError\u001b[0m: <HttpError 403 when requesting https://earthengine.googleapis.com/v1/projects/earthengine-legacy/table:export?alt=json returned \"Request had insufficient authentication scopes.\". Details: \"[{'@type': 'type.googleapis.com/google.rpc.ErrorInfo', 'reason': 'ACCESS_TOKEN_SCOPE_INSUFFICIENT', 'domain': 'googleapis.com', 'metadata': {'service': 'earthengine.googleapis.com', 'method': 'google.earthengine.v1.EarthEngine.ExportTable'}}]\">",
      "\nDuring handling of the above exception, another exception occurred:\n",
      "\u001b[1;31mEEException\u001b[0m                               Traceback (most recent call last)",
      "Cell \u001b[1;32mIn[13], line 23\u001b[0m\n\u001b[0;32m     15\u001b[0m export_task \u001b[38;5;241m=\u001b[39m ee\u001b[38;5;241m.\u001b[39mbatch\u001b[38;5;241m.\u001b[39mExport\u001b[38;5;241m.\u001b[39mtable\u001b[38;5;241m.\u001b[39mtoDrive(\n\u001b[0;32m     16\u001b[0m     collection\u001b[38;5;241m=\u001b[39mdeforestation_areas_attributes,\n\u001b[0;32m     17\u001b[0m     description\u001b[38;5;241m=\u001b[39m\u001b[38;5;124m'\u001b[39m\u001b[38;5;124mDeforested_Areas_2019_2023\u001b[39m\u001b[38;5;124m'\u001b[39m,\n\u001b[0;32m     18\u001b[0m     fileFormat\u001b[38;5;241m=\u001b[39m\u001b[38;5;124m'\u001b[39m\u001b[38;5;124mCSV\u001b[39m\u001b[38;5;124m'\u001b[39m,\n\u001b[0;32m     19\u001b[0m     folder\u001b[38;5;241m=\u001b[39m\u001b[38;5;124m'\u001b[39m\u001b[38;5;124mEarthEngine\u001b[39m\u001b[38;5;124m'\u001b[39m  \u001b[38;5;66;03m# Optional: specify a folder in your Google Drive\u001b[39;00m\n\u001b[0;32m     20\u001b[0m )\n\u001b[0;32m     22\u001b[0m \u001b[38;5;66;03m# Start the export task\u001b[39;00m\n\u001b[1;32m---> 23\u001b[0m export_task\u001b[38;5;241m.\u001b[39mstart()\n\u001b[0;32m     25\u001b[0m \u001b[38;5;66;03m# Monitor the task status\u001b[39;00m\n\u001b[0;32m     26\u001b[0m \u001b[38;5;28;01mwhile\u001b[39;00m export_task\u001b[38;5;241m.\u001b[39mstatus()[\u001b[38;5;124m'\u001b[39m\u001b[38;5;124mstate\u001b[39m\u001b[38;5;124m'\u001b[39m] \u001b[38;5;129;01min\u001b[39;00m [\u001b[38;5;124m'\u001b[39m\u001b[38;5;124mREADY\u001b[39m\u001b[38;5;124m'\u001b[39m, \u001b[38;5;124m'\u001b[39m\u001b[38;5;124mRUNNING\u001b[39m\u001b[38;5;124m'\u001b[39m]:\n",
      "File \u001b[1;32m~\\anaconda3\\Lib\\site-packages\\ee\\batch.py:149\u001b[0m, in \u001b[0;36mTask.start\u001b[1;34m(self)\u001b[0m\n\u001b[0;32m    147\u001b[0m   result \u001b[38;5;241m=\u001b[39m data\u001b[38;5;241m.\u001b[39mexportMap(\u001b[38;5;28mself\u001b[39m\u001b[38;5;241m.\u001b[39m_request_id, \u001b[38;5;28mself\u001b[39m\u001b[38;5;241m.\u001b[39mconfig)\n\u001b[0;32m    148\u001b[0m \u001b[38;5;28;01melif\u001b[39;00m \u001b[38;5;28mself\u001b[39m\u001b[38;5;241m.\u001b[39mtask_type \u001b[38;5;241m==\u001b[39m Task\u001b[38;5;241m.\u001b[39mType\u001b[38;5;241m.\u001b[39mEXPORT_TABLE:\n\u001b[1;32m--> 149\u001b[0m   result \u001b[38;5;241m=\u001b[39m data\u001b[38;5;241m.\u001b[39mexportTable(\u001b[38;5;28mself\u001b[39m\u001b[38;5;241m.\u001b[39m_request_id, \u001b[38;5;28mself\u001b[39m\u001b[38;5;241m.\u001b[39mconfig)\n\u001b[0;32m    150\u001b[0m \u001b[38;5;28;01melif\u001b[39;00m \u001b[38;5;28mself\u001b[39m\u001b[38;5;241m.\u001b[39mtask_type \u001b[38;5;241m==\u001b[39m Task\u001b[38;5;241m.\u001b[39mType\u001b[38;5;241m.\u001b[39mEXPORT_VIDEO:\n\u001b[0;32m    151\u001b[0m   result \u001b[38;5;241m=\u001b[39m data\u001b[38;5;241m.\u001b[39mexportVideo(\u001b[38;5;28mself\u001b[39m\u001b[38;5;241m.\u001b[39m_request_id, \u001b[38;5;28mself\u001b[39m\u001b[38;5;241m.\u001b[39mconfig)\n",
      "File \u001b[1;32m~\\anaconda3\\Lib\\site-packages\\ee\\data.py:1771\u001b[0m, in \u001b[0;36mexportTable\u001b[1;34m(request_id, params)\u001b[0m\n\u001b[0;32m   1750\u001b[0m \u001b[38;5;250m\u001b[39m\u001b[38;5;124;03m\"\"\"Starts a table export task running.\u001b[39;00m\n\u001b[0;32m   1751\u001b[0m \n\u001b[0;32m   1752\u001b[0m \u001b[38;5;124;03mThis is a low-level method. The higher-level ee.batch.Export.table object\u001b[39;00m\n\u001b[1;32m   (...)\u001b[0m\n\u001b[0;32m   1768\u001b[0m \u001b[38;5;124;03m  If you are using the cloud API, this will be an Operation.\u001b[39;00m\n\u001b[0;32m   1769\u001b[0m \u001b[38;5;124;03m\"\"\"\u001b[39;00m\n\u001b[0;32m   1770\u001b[0m params \u001b[38;5;241m=\u001b[39m params\u001b[38;5;241m.\u001b[39mcopy()\n\u001b[1;32m-> 1771\u001b[0m \u001b[38;5;28;01mreturn\u001b[39;00m _prepare_and_run_export(\n\u001b[0;32m   1772\u001b[0m     request_id, params, _get_cloud_projects()\u001b[38;5;241m.\u001b[39mtable()\u001b[38;5;241m.\u001b[39mexport\n\u001b[0;32m   1773\u001b[0m )\n",
      "File \u001b[1;32m~\\anaconda3\\Lib\\site-packages\\ee\\data.py:1888\u001b[0m, in \u001b[0;36m_prepare_and_run_export\u001b[1;34m(request_id, params, export_endpoint)\u001b[0m\n\u001b[0;32m   1885\u001b[0m   params[\u001b[38;5;124m'\u001b[39m\u001b[38;5;124mexpression\u001b[39m\u001b[38;5;124m'\u001b[39m] \u001b[38;5;241m=\u001b[39m serializer\u001b[38;5;241m.\u001b[39mencode(\n\u001b[0;32m   1886\u001b[0m       params[\u001b[38;5;124m'\u001b[39m\u001b[38;5;124mexpression\u001b[39m\u001b[38;5;124m'\u001b[39m], for_cloud_api\u001b[38;5;241m=\u001b[39m\u001b[38;5;28;01mTrue\u001b[39;00m)\n\u001b[0;32m   1887\u001b[0m num_retries \u001b[38;5;241m=\u001b[39m MAX_RETRIES \u001b[38;5;28;01mif\u001b[39;00m request_id \u001b[38;5;28;01melse\u001b[39;00m \u001b[38;5;241m0\u001b[39m\n\u001b[1;32m-> 1888\u001b[0m \u001b[38;5;28;01mreturn\u001b[39;00m _execute_cloud_call(\n\u001b[0;32m   1889\u001b[0m     export_endpoint(project\u001b[38;5;241m=\u001b[39m_get_projects_path(), body\u001b[38;5;241m=\u001b[39mparams),\n\u001b[0;32m   1890\u001b[0m     num_retries\u001b[38;5;241m=\u001b[39mnum_retries)\n",
      "File \u001b[1;32m~\\anaconda3\\Lib\\site-packages\\ee\\data.py:404\u001b[0m, in \u001b[0;36m_execute_cloud_call\u001b[1;34m(call, num_retries)\u001b[0m\n\u001b[0;32m    402\u001b[0m   \u001b[38;5;28;01mreturn\u001b[39;00m call\u001b[38;5;241m.\u001b[39mexecute(num_retries\u001b[38;5;241m=\u001b[39mnum_retries)\n\u001b[0;32m    403\u001b[0m \u001b[38;5;28;01mexcept\u001b[39;00m googleapiclient\u001b[38;5;241m.\u001b[39merrors\u001b[38;5;241m.\u001b[39mHttpError \u001b[38;5;28;01mas\u001b[39;00m e:\n\u001b[1;32m--> 404\u001b[0m   \u001b[38;5;28;01mraise\u001b[39;00m _translate_cloud_exception(e)\n",
      "\u001b[1;31mEEException\u001b[0m: Request had insufficient authentication scopes."
     ]
    }
   ],
   "source": [
    "import ee\n",
    "import time\n",
    "\n",
    "# Authenticate the Earth Engine session with Google Drive scope\n",
    "ee.Authenticate(scopes=['https://www.googleapis.com/auth/earthengine', 'https://www.googleapis.com/auth/drive'])\n",
    "\n",
    "# Initialize Earth Engine with the authenticated credentials\n",
    "ee.Initialize()\n",
    "\n",
    "# Assuming deforestation_areas_with_area is defined somewhere in your code\n",
    "# Remove the geometry from the features\n",
    "deforestation_areas_attributes = deforestation_areas_with_area.map(lambda f: f.setGeometry(None))\n",
    "\n",
    "# Define the export task\n",
    "export_task = ee.batch.Export.table.toDrive(\n",
    "    collection=deforestation_areas_attributes,\n",
    "    description='Deforested_Areas_2019_2023',\n",
    "    fileFormat='CSV',\n",
    "    folder='EarthEngine'  # Optional: specify a folder in your Google Drive\n",
    ")\n",
    "\n",
    "# Start the export task\n",
    "export_task.start()\n",
    "\n",
    "# Monitor the task status\n",
    "while export_task.status()['state'] in ['READY', 'RUNNING']:\n",
    "    print('Exporting... Current status: {}'.format(export_task.status()['state']))\n",
    "    time.sleep(30)\n",
    "\n",
    "# Print final status\n",
    "print('Export task completed with status: {}'.format(export_task.status()['state']))\n"
   ]
  }
 ],
 "metadata": {
  "kernelspec": {
   "display_name": "Python 3 (ipykernel)",
   "language": "python",
   "name": "python3"
  },
  "language_info": {
   "codemirror_mode": {
    "name": "ipython",
    "version": 3
   },
   "file_extension": ".py",
   "mimetype": "text/x-python",
   "name": "python",
   "nbconvert_exporter": "python",
   "pygments_lexer": "ipython3",
   "version": "3.11.7"
  }
 },
 "nbformat": 4,
 "nbformat_minor": 5
}
